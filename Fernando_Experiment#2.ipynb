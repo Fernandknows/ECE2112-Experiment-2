{
  "metadata": {
    "kernelspec": {
      "name": "python",
      "display_name": "Python (Pyodide)",
      "language": "python"
    },
    "language_info": {
      "codemirror_mode": {
        "name": "python",
        "version": 3
      },
      "file_extension": ".py",
      "mimetype": "text/x-python",
      "name": "python",
      "nbconvert_exporter": "python",
      "pygments_lexer": "ipython3",
      "version": "3.8"
    }
  },
  "nbformat_minor": 4,
  "nbformat": 4,
  "cells": [
    {
      "cell_type": "markdown",
      "source": "# EXPERIMENT 2 - Numerical Python ",
      "metadata": {}
    },
    {
      "cell_type": "markdown",
      "source": "#### NORMALIZATION PROBLEM",
      "metadata": {}
    },
    {
      "cell_type": "code",
      "source": "#Assign numpy to be np.\nimport numpy as np\n\n#Create a random 5x5 array.\nX = np.random.random((5, 5))\n\n#Assigning variable to the mean and standard deviation of the variable 'X' using .mean() and .std() calls.\nmean = X.mean()\nstd = X.std()\n\n#Assign the normalization formula to variable 'formula'.\nformula = (X - mean) / std\n\n#Print the normalization formula.\nprint(formula)\n\n#Saving the normalized array to a designated file.\nnp.save('X_normalized.npy', formula)\n\n#Output to indicate that the array has been saved successfully.\nprint(\"\\nYour file has been saved as 'X_normalized.npy' successfully!\")",
      "metadata": {
        "trusted": true
      },
      "outputs": [
        {
          "name": "stdout",
          "text": "[[ 0.43494415 -0.91163436  1.23861816 -0.129228    1.09122219]\n [-0.79737562 -1.10107894 -0.68677011 -1.35623225  0.86536128]\n [-1.32304271  1.01569933  1.07487144  0.00285109  1.06525071]\n [ 1.14963972  0.04739948  0.78603041 -1.89616875  0.35921189]\n [-0.89107567  1.12934374 -1.7746977  -0.00355081  0.61041133]]\n\nYour file has been saved as 'X_normalized.npy' successfully!\n",
          "output_type": "stream"
        }
      ],
      "execution_count": 29
    },
    {
      "cell_type": "markdown",
      "source": "#### DIVISIBLE BY 3 PROBLEM",
      "metadata": {}
    },
    {
      "cell_type": "code",
      "source": "#Assign numpy to be np.\nimport numpy as np\n\n#First 100 positive integers array.\nA = np.arange(1, 101)\n\n#Squaring each integer inside the array created.\nsqrdnum = A ** 2\n\n#Reshaping into 10x10 array.\nreshapedA = sqrdnum.reshape(10, 10)\n\n#Determining values that are divisible by 3.\ndivisible_by_3 = reshapedA[reshapedA % 3 == 0]\n\n#Print the results.\nprint(\"A 10x10 Array of Squared Numbers:\")\nprint(reshapedA)\n\nprint(\"\\nThese are the values that are divisible by 3:\")\nprint(divisible_by_3)\n\nnp.save('div_by_3.npy', div_by_3)\n\n#Output to prompt the user that the file has been saved as 'div_by_3.npy' succesfully.\nprint(\"\\nYour file has been saved as 'div_by_3.npy' successfully!\")",
      "metadata": {
        "trusted": true
      },
      "outputs": [
        {
          "name": "stdout",
          "text": "A 10x10 Array of Squared Numbers:\n[[    1     4     9    16    25    36    49    64    81   100]\n [  121   144   169   196   225   256   289   324   361   400]\n [  441   484   529   576   625   676   729   784   841   900]\n [  961  1024  1089  1156  1225  1296  1369  1444  1521  1600]\n [ 1681  1764  1849  1936  2025  2116  2209  2304  2401  2500]\n [ 2601  2704  2809  2916  3025  3136  3249  3364  3481  3600]\n [ 3721  3844  3969  4096  4225  4356  4489  4624  4761  4900]\n [ 5041  5184  5329  5476  5625  5776  5929  6084  6241  6400]\n [ 6561  6724  6889  7056  7225  7396  7569  7744  7921  8100]\n [ 8281  8464  8649  8836  9025  9216  9409  9604  9801 10000]]\n\nThese are the values that are divisible by 3:\n[   9   36   81  144  225  324  441  576  729  900 1089 1296 1521 1764\n 2025 2304 2601 2916 3249 3600 3969 4356 4761 5184 5625 6084 6561 7056\n 7569 8100 8649 9216 9801]\n\nYour file has been saved as 'div_by_3.npy' successfully!\n",
          "output_type": "stream"
        }
      ],
      "execution_count": 28
    },
    {
      "cell_type": "code",
      "source": "",
      "metadata": {
        "trusted": true
      },
      "outputs": [],
      "execution_count": null
    }
  ]
}